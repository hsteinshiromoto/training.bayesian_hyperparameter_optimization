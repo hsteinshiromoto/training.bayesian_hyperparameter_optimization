{
 "cells": [
  {
   "cell_type": "code",
   "execution_count": 87,
   "source": [
    "import numpy as np\n",
    "import xgboost as xgb\n",
    "import warnings\n",
    "from hyperopt import fmin, tpe, STATUS_OK, STATUS_FAIL, Trials\n",
    "from hyperopt import hp\n",
    "from sklearn.model_selection import cross_val_score, StratifiedShuffleSplit\n",
    "from sklearn.datasets import load_breast_cancer\n",
    "from sklearn.metrics import roc_auc_score, f1_score, log_loss\n",
    "from xgboost import XGBClassifier"
   ],
   "outputs": [],
   "metadata": {}
  },
  {
   "cell_type": "code",
   "execution_count": 88,
   "source": [
    "data = load_breast_cancer()\n",
    "X = data['data']\n",
    "y = data['target']"
   ],
   "outputs": [],
   "metadata": {}
  },
  {
   "cell_type": "code",
   "execution_count": 95,
   "source": [
    "sss = StratifiedShuffleSplit(n_splits=1, train_size=0.75)\n",
    "for train_index, test_index in sss.split(X, y):\n",
    "    X_train, X_test = X[train_index], X[test_index]\n",
    "    y_train, y_test = y[train_index], y[test_index]\n",
    "\n",
    "train_proportion = 0.9\n",
    "sss = StratifiedShuffleSplit(n_splits=1, train_size=train_proportion)\n",
    "for train_index, val_index in sss.split(X, y):\n",
    "    X_train, X_val = X[train_index], X[val_index]\n",
    "    y_train, y_val = y[train_index], y[val_index]"
   ],
   "outputs": [],
   "metadata": {}
  },
  {
   "cell_type": "code",
   "execution_count": 118,
   "source": [
    "space = {\n",
    "    'max_depth' : hp.randint('max_depth', 10),\n",
    "    'learning_rate' : hp.quniform('learning_rate', 0.01, 0.5, 0.01),\n",
    "    'n_estimators' : hp.randint('n_estimators', 250),\n",
    "    'gamma' : hp.quniform('gamma', 0, 0.50, 0.01),\n",
    "    'min_child_weight' : hp.quniform('min_child_weight', 1, 10, 1),\n",
    "    'subsample' : hp.quniform('subsample', 0.1, 1, 0.01),\n",
    "    'colsample_bytree' : hp.quniform('colsample_bytree', 0.1, 1.0, 0.01)\n",
    "    }"
   ],
   "outputs": [],
   "metadata": {}
  },
  {
   "cell_type": "code",
   "execution_count": 119,
   "source": [
    "def cost(space, X_train, y_train, X_val, y_val):\n",
    "\n",
    "    warnings.filterwarnings(action='ignore')\n",
    "\n",
    "    classifier = XGBClassifier(n_estimators = space['n_estimators']\n",
    "                            ,max_depth = int(space['max_depth'])\n",
    "                            ,learning_rate = space['learning_rate']\n",
    "                            ,gamma = space['gamma']\n",
    "                            ,min_child_weight = space['min_child_weight']\n",
    "                            ,subsample = space['subsample']\n",
    "                            ,colsample_bytree = space['colsample_bytree']\n",
    "                            ,use_label_encoder=False\n",
    "                            ,eval_metric=\"logloss\"\n",
    "                            )\n",
    "    classifier.fit(X_train, y_train)\n",
    "    y_proba_val = classifier.predict_proba(X_val)[:, 1]\n",
    "    y_class_val = classifier.predict(X_val)\n",
    "\n",
    "    rocauc_val = roc_auc_score(y_val, y_proba_val)\n",
    "    f1_val = f1_score(y_val, y_class_val)\n",
    "    logloss_val = log_loss(y_val, y_class_val)\n",
    "\n",
    "    y_proba_train = classifier.predict_proba(X_train)[:, 1]\n",
    "    y_class_train = classifier.predict(X_train)\n",
    "\n",
    "    # Applying k-Fold Cross Validation\n",
    "    rocauc_train = roc_auc_score(y_train, y_proba_train)\n",
    "    f1_train = f1_score(y_train, y_class_train)\n",
    "    logloss_train = log_loss(y_train, y_class_train)\n",
    "    \n",
    "    # print(f\"CrossValMean: {CrossValMean}\")\n",
    "    train_proportions = X_train.shape[0]/(X_train.shape[0] + X_val.shape[0])\n",
    "\n",
    "    loss = ((1.0 - rocauc_val)**2 + (1.0 - f1_val)**2 + logloss_val**2)/train_proportions\n",
    "    loss += (1.0 - rocauc_train)**2 + (1.0 - f1_train)**2 + logloss_train**2\n",
    "\n",
    "\n",
    "    return {'loss': np.sqrt(loss), 'status': STATUS_OK }"
   ],
   "outputs": [],
   "metadata": {}
  },
  {
   "cell_type": "code",
   "execution_count": 120,
   "source": [
    "objective = lambda x: cost(x, X_train=X_train, y_train=y_train, X_val=X_val, y_val=y_val)"
   ],
   "outputs": [],
   "metadata": {}
  },
  {
   "cell_type": "code",
   "execution_count": 121,
   "source": [
    "trials = Trials()\n",
    "\n",
    "best = fmin(fn=objective,\n",
    "            space=space,\n",
    "            algo=tpe.suggest,\n",
    "            max_evals=100,\n",
    "            trials=trials)\n",
    "\n",
    "print(\"Best: \", best)\n",
    "\n",
    " # Fitting XGBoost to the Training set\n",
    "\n"
   ],
   "outputs": [
    {
     "output_type": "stream",
     "name": "stdout",
     "text": [
      "100%|██████████| 100/100 [00:07<00:00, 13.85trial/s, best loss: 0.6061830137017749]\n",
      "Best:  {'colsample_bytree': 0.23, 'gamma': 0.47000000000000003, 'learning_rate': 0.22, 'max_depth': 3, 'min_child_weight': 1.0, 'n_estimators': 221, 'subsample': 0.52}\n"
     ]
    }
   ],
   "metadata": {}
  },
  {
   "cell_type": "code",
   "execution_count": null,
   "source": [
    "classifier = XGBClassifier(n_estimators = best['n_estimators'],\n",
    "\n",
    "                            max_depth = best['max_depth'],\n",
    "\n",
    "                            learning_rate = best['learning_rate'],\n",
    "\n",
    "                            gamma = best['gamma'],\n",
    "\n",
    "                            min_child_weight = best['min_child_weight'],\n",
    "\n",
    "                            subsample = best['subsample'],\n",
    "\n",
    "                            colsample_bytree = best['colsample_bytree']\n",
    "\n",
    "                            )\n",
    "\n",
    " \n",
    "\n",
    "classifier.fit(X_train, y_train)\n",
    "\n",
    " \n",
    "\n",
    "# Applying k-Fold Cross Validation\n",
    "\n",
    "from sklearn.model_selection import cross_val_score\n",
    "\n",
    "accuracies = cross_val_score(estimator = classifier, X = X_train, y = y_train, cv = 10)\n",
    "\n",
    "CrossValMean = accuracies.mean()\n",
    "\n",
    "print(\"Final CrossValMean: \", CrossValMean)\n",
    "\n",
    " \n",
    "\n",
    "CrossValSTD = accuracies.std()\n",
    "\n",
    " \n",
    "\n",
    "# Predicting the Test set results\n",
    "\n",
    "y_pred = classifier.predict(X_test)\n",
    "\n",
    "y_pred = pd.DataFrame(y_pred)\n",
    "\n",
    "y_pred.columns = ['Survived']\n",
    "\n",
    "submission = submission.join(y_pred)\n",
    "\n",
    " \n",
    "\n",
    "# Exporting dataset to csv\n",
    "\n",
    "submission.to_csv(\"Titanic_Submission.csv\", index=False, sep=',')"
   ],
   "outputs": [],
   "metadata": {}
  }
 ],
 "metadata": {
  "orig_nbformat": 4,
  "language_info": {
   "name": "python"
  }
 },
 "nbformat": 4,
 "nbformat_minor": 2
}